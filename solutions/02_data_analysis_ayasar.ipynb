{
 "cells": [
  {
   "cell_type": "code",
   "execution_count": 3,
   "metadata": {},
   "outputs": [],
   "source": [
    "import nltk\n",
    "import pandas as pd"
   ]
  },
  {
   "cell_type": "code",
   "execution_count": 4,
   "metadata": {},
   "outputs": [
    {
     "name": "stdout",
     "output_type": "stream",
     "text": [
      "showing info https://raw.githubusercontent.com/nltk/nltk_data/gh-pages/index.xml\n"
     ]
    },
    {
     "data": {
      "text/plain": [
       "True"
      ]
     },
     "execution_count": 4,
     "metadata": {},
     "output_type": "execute_result"
    }
   ],
   "source": [
    "nltk.download()"
   ]
  },
  {
   "cell_type": "code",
   "execution_count": 14,
   "metadata": {},
   "outputs": [
    {
     "name": "stdout",
     "output_type": "stream",
     "text": [
      "Human 1: Hi!\n",
      "Human 2: What is your favorite holiday?\n",
      "Human 1: one where I get to meet lots of different people.\n",
      "Human 2: What was the most number of people you have ever met during a holiday?\n",
      "Human 1: Hard to keep a count. Maybe 25.\n",
      "Human 2: Which holiday was that?\n",
      "Human 1: I think it was Australia\n",
      "Human 2: Do you still talk to the people you met?\n",
      "Human 1: Not really. The interactions are usually short-lived but it's fascinating to learn where people are coming from and what matters to them\n",
      "Huma\n"
     ]
    }
   ],
   "source": [
    "raw_data = open(\"../data/human_chat.txt\").read()\n",
    "\n",
    "print(raw_data[0:500])"
   ]
  },
  {
   "cell_type": "code",
   "execution_count": 15,
   "metadata": {},
   "outputs": [],
   "source": [
    "from nltk.tokenize import word_tokenize"
   ]
  },
  {
   "cell_type": "markdown",
   "metadata": {},
   "source": [
    " \n",
    "### Some lines have more than one “:”\n",
    "- We find these lines"
   ]
  },
  {
   "cell_type": "code",
   "execution_count": 29,
   "metadata": {},
   "outputs": [
    {
     "name": "stdout",
     "output_type": "stream",
     "text": [
      "Line 34: Human 2: I'm in New York this week for Thanksgiving. I'm squatting in the office today and I caught up with an old friend of mine :D\n",
      "\n",
      "Line 79: Human 2: I am afraid I will be scared of doing this :)\n",
      "\n",
      "Line 115: Human 2: thanks! I generally love noodle soups like Pho or Ramen :)\n",
      "\n",
      "Line 159: Human 1: Apparently Christopher Columbus didn't fight in the Civil War :')\n",
      "\n",
      "Line 183: Human 1: Cool. Step 2: talk with the person some more, and ask them some more questions, and gradually develop a sense of what they're like, over the course of maybe two to five years. And voila\n",
      "\n",
      "Line 184: Human 2: Hehe, i think you should publish this someday :)\n",
      "\n",
      "Line 233: Human 2: I think I sort of understand :)\n",
      "\n",
      "Line 319: Human 2: Ah, that's a good way of framing it. Me, I like berries: boysenberry one, strawberry two, maybe straight chocolate number 3 to mix it up a bit.\n",
      "\n",
      "Line 358: Human 1: ah cool. so you can run more frequently?:)\n",
      "\n",
      "Line 471: Human 2: Wait. Do you like kale? Or you hate kale? I am afraid I will become a robot some day eventually. If I have to speak like this :)\n",
      "\n",
      "Line 505: Human 1: We can check the menu then decide :)\n",
      "\n",
      "Line 517: Human 2: Yes. When my top favorite food looks like: cookies, M&M, danish cheese, etc., I know that I have a thing for sweet food. But who doesn't love sweet food? How about you?\n",
      "\n",
      "Line 528: Human 2: LOL I feel less guilty about eating a whole pie when i have the excuse :P\n",
      "\n",
      "Line 529: Human 1: True! I think thanksgiving is more about sharing. So you may end up sharing the pie with the whole family :P\n",
      "\n",
      "Line 531: Human 1: Stuffing! yes please! I wonder what would be the excitement levels for christmas then :)\n",
      "\n",
      "Line 592: Human 1: Like impersorsination? Though it sounds far fetched :)\n",
      "\n",
      "Line 594: Human 1: True that! Some of these bots are very engaging and funny. They are now good at even sarcasm I wonder how far are we from the time these bots start giving monologues :)\n",
      "\n",
      "Line 653: Human 2: True! Well, thanks for your inputs! Have a good rest of the day! :)\n",
      "\n",
      "Line 662: Human 2: Wow, that is nice of you. For the mentor program, personally I prefer more 1:1 conversations than the group discussions. The group discussion i useful as well but the topics are too general.\n",
      "\n",
      "Line 663: Human 1: yeah... I certainly prefer 1:1 as well, but sometimes it good to hear other peer perspective as well.\n",
      "\n",
      "Line 689: Human 2: i was talking to robot all the time:)\n",
      "\n",
      "Line 698: Human 1: john mayer:)\\\n",
      "\n",
      "Line 769: Human 2: At Home :)\n",
      "\n",
      "Line 879: Human 1: San Mateo to me has the best Ramen restaurants: Parlor and Dojo? oh no question mark 🙂\n",
      "\n",
      "Line 902: Human 1: woah!... You know sharing is caring. You should share that money with me :)\n",
      "\n",
      "Line 1052: Human 1: Right near my home town: Seville, Spain.\n",
      "\n",
      "Line 1135: Human 1: 1. stay happy; I think family and friends play a big role here. 2. Meaningful work life; this may mean exploring around with new stuff 3. multiple hobbies that keep you busy ... so on 🙂 What about you? is there a right answer to this? :)\n",
      "\n",
      "Line 1138: Human 2: Yea, I've always said that if I wrote a memoire, I would title it: \"Jazz, Jesus, and Video Games.\" Do you have a title of a book that you've thought of writing before?\n",
      "\n",
      "Line 1140: Human 2: That’s why you write your own books! Then it’s all your thoughts on your terms :)\n",
      "\n",
      "Line 1141: Human 1: Hehe! True! It may turn out to be a best seller :)\n",
      "\n",
      "Line 1150: Human 1: Haha, all the animal names confuse me as well! Who came up with these naming conventions? I'd name my team something more original: The New York Chairs!\n",
      "\n",
      "Line 1151: Human 2: lol, sounds better to me :) I'm actually at the <REDACTED_TERM> opening remarks\n",
      "\n",
      "Line 1207: Human 2: Google for that:)\n",
      "\n",
      "Line 1269: Human 1: Nice! I hope to volunteer to cook for the team in our next team offsite :)\n",
      "\n",
      "Line 1282: Human 2: I visited a few places like the Stade Olympique: <REDACTED_LINK>\n",
      "\n",
      "Line 1320: Human 2: I've seen a couple episodes from the latest season. It's really random and weird but also strangely relatable which is why I like it :)\n",
      "\n",
      "Line 1492: Human 2: Fly to the moon :) Haha\n",
      "\n"
     ]
    }
   ],
   "source": [
    "with open(\"../data/human_chat.txt\", \"r\") as file:\n",
    "    lines = file.readlines()\n",
    "\n",
    "for i, line in enumerate(lines):\n",
    "    if line.count(\":\") > 1:  # Fazladan ':' içeren satırları bul\n",
    "        print(f\"Line {i + 1}: {line}\")"
   ]
  },
  {
   "cell_type": "markdown",
   "metadata": {},
   "source": [
    "### Separate data by the first “:” in the lines"
   ]
  },
  {
   "cell_type": "code",
   "execution_count": 6,
   "metadata": {},
   "outputs": [
    {
     "data": {
      "text/html": [
       "<div>\n",
       "<style scoped>\n",
       "    .dataframe tbody tr th:only-of-type {\n",
       "        vertical-align: middle;\n",
       "    }\n",
       "\n",
       "    .dataframe tbody tr th {\n",
       "        vertical-align: top;\n",
       "    }\n",
       "\n",
       "    .dataframe thead th {\n",
       "        text-align: right;\n",
       "    }\n",
       "</style>\n",
       "<table border=\"1\" class=\"dataframe\">\n",
       "  <thead>\n",
       "    <tr style=\"text-align: right;\">\n",
       "      <th></th>\n",
       "      <th>Speaker</th>\n",
       "      <th>Message</th>\n",
       "    </tr>\n",
       "  </thead>\n",
       "  <tbody>\n",
       "    <tr>\n",
       "      <th>0</th>\n",
       "      <td>Human 1</td>\n",
       "      <td>Hi!</td>\n",
       "    </tr>\n",
       "    <tr>\n",
       "      <th>1</th>\n",
       "      <td>Human 2</td>\n",
       "      <td>What is your favorite holiday?</td>\n",
       "    </tr>\n",
       "    <tr>\n",
       "      <th>2</th>\n",
       "      <td>Human 1</td>\n",
       "      <td>one where I get to meet lots of different people.</td>\n",
       "    </tr>\n",
       "    <tr>\n",
       "      <th>3</th>\n",
       "      <td>Human 2</td>\n",
       "      <td>What was the most number of people you have ev...</td>\n",
       "    </tr>\n",
       "    <tr>\n",
       "      <th>4</th>\n",
       "      <td>Human 1</td>\n",
       "      <td>Hard to keep a count. Maybe 25.</td>\n",
       "    </tr>\n",
       "    <tr>\n",
       "      <th>5</th>\n",
       "      <td>Human 2</td>\n",
       "      <td>Which holiday was that?</td>\n",
       "    </tr>\n",
       "    <tr>\n",
       "      <th>6</th>\n",
       "      <td>Human 1</td>\n",
       "      <td>I think it was Australia</td>\n",
       "    </tr>\n",
       "    <tr>\n",
       "      <th>7</th>\n",
       "      <td>Human 2</td>\n",
       "      <td>Do you still talk to the people you met?</td>\n",
       "    </tr>\n",
       "    <tr>\n",
       "      <th>8</th>\n",
       "      <td>Human 1</td>\n",
       "      <td>Not really. The interactions are usually short...</td>\n",
       "    </tr>\n",
       "    <tr>\n",
       "      <th>9</th>\n",
       "      <td>Human 2</td>\n",
       "      <td>Yea, me too. I feel like God often puts strang...</td>\n",
       "    </tr>\n",
       "  </tbody>\n",
       "</table>\n",
       "</div>"
      ],
      "text/plain": [
       "   Speaker                                            Message\n",
       "0  Human 1                                                Hi!\n",
       "1  Human 2                     What is your favorite holiday?\n",
       "2  Human 1  one where I get to meet lots of different people.\n",
       "3  Human 2  What was the most number of people you have ev...\n",
       "4  Human 1                    Hard to keep a count. Maybe 25.\n",
       "5  Human 2                            Which holiday was that?\n",
       "6  Human 1                           I think it was Australia\n",
       "7  Human 2           Do you still talk to the people you met?\n",
       "8  Human 1  Not really. The interactions are usually short...\n",
       "9  Human 2  Yea, me too. I feel like God often puts strang..."
      ]
     },
     "execution_count": 6,
     "metadata": {},
     "output_type": "execute_result"
    }
   ],
   "source": [
    "def split_first_col(line):\n",
    "    parts = line.split(\": \", 1)  \n",
    "    if len(parts) == 2:\n",
    "        return parts\n",
    "    return [parts[0], \"\"]  \n",
    "\n",
    "df = pd.DataFrame(\n",
    "    [split_first_col(line.strip()) for line in open(\"../data/human_chat.txt\", \"r\")],\n",
    "    columns=[\"Speaker\", \"Message\"]\n",
    ")\n",
    "\n",
    "df.head(10)"
   ]
  },
  {
   "cell_type": "markdown",
   "metadata": {},
   "source": [
    "### Exploring the raw dataset"
   ]
  },
  {
   "cell_type": "code",
   "execution_count": 7,
   "metadata": {},
   "outputs": [
    {
     "name": "stdout",
     "output_type": "stream",
     "text": [
      "Nr of Rows: 1495 - Nr. of Columns 2\n",
      "Nr of Human 1:764 - Nr. of Human 2: 730\n",
      "Missing Speaker: 0 - Missing Message: 0\n"
     ]
    }
   ],
   "source": [
    "# Shape of the dataset\n",
    "\n",
    "print(f\"Nr of Rows: {df.shape[0]} - Nr. of Columns {df.shape[1]}\")\n",
    "\n",
    "\n",
    "# Humen 1 and Humen 2 \n",
    "\n",
    "hum1_rows = df.loc[df[\"Speaker\"] == \"Human 1\"]\n",
    "hum2_rows = df.loc[df[\"Speaker\"] == \"Human 2\"]\n",
    "\n",
    "print(f\"Nr of Human 1:{len(hum1_rows)} - Nr. of Human 2: {len(hum2_rows)}\")\n",
    "\n",
    "# Missing data\n",
    "sum_of_missing_Speaker = df[\"Speaker\"].isnull().sum()\n",
    "sum_of_missing_Message = df[\"Message\"].isnull().sum()\n",
    "\n",
    "print(f\"Missing Speaker: {sum_of_missing_Speaker} - Missing Message: {sum_of_missing_Message}\")"
   ]
  },
  {
   "cell_type": "markdown",
   "metadata": {},
   "source": [
    "### Remove Punctuation"
   ]
  },
  {
   "cell_type": "code",
   "execution_count": 10,
   "metadata": {},
   "outputs": [
    {
     "data": {
      "text/html": [
       "<div>\n",
       "<style scoped>\n",
       "    .dataframe tbody tr th:only-of-type {\n",
       "        vertical-align: middle;\n",
       "    }\n",
       "\n",
       "    .dataframe tbody tr th {\n",
       "        vertical-align: top;\n",
       "    }\n",
       "\n",
       "    .dataframe thead th {\n",
       "        text-align: right;\n",
       "    }\n",
       "</style>\n",
       "<table border=\"1\" class=\"dataframe\">\n",
       "  <thead>\n",
       "    <tr style=\"text-align: right;\">\n",
       "      <th></th>\n",
       "      <th>Speaker</th>\n",
       "      <th>Message</th>\n",
       "      <th>message_nopunct</th>\n",
       "    </tr>\n",
       "  </thead>\n",
       "  <tbody>\n",
       "    <tr>\n",
       "      <th>0</th>\n",
       "      <td>Human 1</td>\n",
       "      <td>Hi!</td>\n",
       "      <td>Hi</td>\n",
       "    </tr>\n",
       "    <tr>\n",
       "      <th>1</th>\n",
       "      <td>Human 2</td>\n",
       "      <td>What is your favorite holiday?</td>\n",
       "      <td>What is your favorite holiday</td>\n",
       "    </tr>\n",
       "    <tr>\n",
       "      <th>2</th>\n",
       "      <td>Human 1</td>\n",
       "      <td>one where I get to meet lots of different people.</td>\n",
       "      <td>one where I get to meet lots of different people</td>\n",
       "    </tr>\n",
       "    <tr>\n",
       "      <th>3</th>\n",
       "      <td>Human 2</td>\n",
       "      <td>What was the most number of people you have ev...</td>\n",
       "      <td>What was the most number of people you have ev...</td>\n",
       "    </tr>\n",
       "    <tr>\n",
       "      <th>4</th>\n",
       "      <td>Human 1</td>\n",
       "      <td>Hard to keep a count. Maybe 25.</td>\n",
       "      <td>Hard to keep a count Maybe 25</td>\n",
       "    </tr>\n",
       "  </tbody>\n",
       "</table>\n",
       "</div>"
      ],
      "text/plain": [
       "   Speaker                                            Message  \\\n",
       "0  Human 1                                                Hi!   \n",
       "1  Human 2                     What is your favorite holiday?   \n",
       "2  Human 1  one where I get to meet lots of different people.   \n",
       "3  Human 2  What was the most number of people you have ev...   \n",
       "4  Human 1                    Hard to keep a count. Maybe 25.   \n",
       "\n",
       "                                     message_nopunct  \n",
       "0                                                 Hi  \n",
       "1                      What is your favorite holiday  \n",
       "2   one where I get to meet lots of different people  \n",
       "3  What was the most number of people you have ev...  \n",
       "4                      Hard to keep a count Maybe 25  "
      ]
     },
     "execution_count": 10,
     "metadata": {},
     "output_type": "execute_result"
    }
   ],
   "source": [
    "import string\n",
    "\n",
    "def remove_punctuation(txt):\n",
    "    txt_nonpunct = \"\".join([c for c in txt if c not in string.punctuation])\n",
    "    \n",
    "    return txt_nonpunct \n",
    "\n",
    "\n",
    "df[\"message_nopunct\"] = df[\"Message\"].apply(lambda x: remove_punctuation(x))\n",
    "\n",
    "df.head()\n"
   ]
  },
  {
   "cell_type": "markdown",
   "metadata": {},
   "source": [
    "### Tokenize and Lowering"
   ]
  },
  {
   "cell_type": "code",
   "execution_count": 13,
   "metadata": {},
   "outputs": [
    {
     "data": {
      "text/html": [
       "<div>\n",
       "<style scoped>\n",
       "    .dataframe tbody tr th:only-of-type {\n",
       "        vertical-align: middle;\n",
       "    }\n",
       "\n",
       "    .dataframe tbody tr th {\n",
       "        vertical-align: top;\n",
       "    }\n",
       "\n",
       "    .dataframe thead th {\n",
       "        text-align: right;\n",
       "    }\n",
       "</style>\n",
       "<table border=\"1\" class=\"dataframe\">\n",
       "  <thead>\n",
       "    <tr style=\"text-align: right;\">\n",
       "      <th></th>\n",
       "      <th>Speaker</th>\n",
       "      <th>Message</th>\n",
       "      <th>message_nopunct</th>\n",
       "      <th>message_tokens</th>\n",
       "    </tr>\n",
       "  </thead>\n",
       "  <tbody>\n",
       "    <tr>\n",
       "      <th>0</th>\n",
       "      <td>Human 1</td>\n",
       "      <td>Hi!</td>\n",
       "      <td>Hi</td>\n",
       "      <td>[hi]</td>\n",
       "    </tr>\n",
       "    <tr>\n",
       "      <th>1</th>\n",
       "      <td>Human 2</td>\n",
       "      <td>What is your favorite holiday?</td>\n",
       "      <td>What is your favorite holiday</td>\n",
       "      <td>[what, is, your, favorite, holiday]</td>\n",
       "    </tr>\n",
       "    <tr>\n",
       "      <th>2</th>\n",
       "      <td>Human 1</td>\n",
       "      <td>one where I get to meet lots of different people.</td>\n",
       "      <td>one where I get to meet lots of different people</td>\n",
       "      <td>[one, where, i, get, to, meet, lots, of, diffe...</td>\n",
       "    </tr>\n",
       "    <tr>\n",
       "      <th>3</th>\n",
       "      <td>Human 2</td>\n",
       "      <td>What was the most number of people you have ev...</td>\n",
       "      <td>What was the most number of people you have ev...</td>\n",
       "      <td>[what, was, the, most, number, of, people, you...</td>\n",
       "    </tr>\n",
       "    <tr>\n",
       "      <th>4</th>\n",
       "      <td>Human 1</td>\n",
       "      <td>Hard to keep a count. Maybe 25.</td>\n",
       "      <td>Hard to keep a count Maybe 25</td>\n",
       "      <td>[hard, to, keep, a, count, maybe, 25]</td>\n",
       "    </tr>\n",
       "  </tbody>\n",
       "</table>\n",
       "</div>"
      ],
      "text/plain": [
       "   Speaker                                            Message  \\\n",
       "0  Human 1                                                Hi!   \n",
       "1  Human 2                     What is your favorite holiday?   \n",
       "2  Human 1  one where I get to meet lots of different people.   \n",
       "3  Human 2  What was the most number of people you have ev...   \n",
       "4  Human 1                    Hard to keep a count. Maybe 25.   \n",
       "\n",
       "                                     message_nopunct  \\\n",
       "0                                                 Hi   \n",
       "1                      What is your favorite holiday   \n",
       "2   one where I get to meet lots of different people   \n",
       "3  What was the most number of people you have ev...   \n",
       "4                      Hard to keep a count Maybe 25   \n",
       "\n",
       "                                      message_tokens  \n",
       "0                                               [hi]  \n",
       "1                [what, is, your, favorite, holiday]  \n",
       "2  [one, where, i, get, to, meet, lots, of, diffe...  \n",
       "3  [what, was, the, most, number, of, people, you...  \n",
       "4              [hard, to, keep, a, count, maybe, 25]  "
      ]
     },
     "execution_count": 13,
     "metadata": {},
     "output_type": "execute_result"
    }
   ],
   "source": [
    "import re \n",
    "\n",
    "def tokenize(txt):\n",
    "    tokens  = re.split(\"\\W+\", txt) # W: non word  + : several\n",
    "\n",
    "    return tokens \n",
    "\n",
    "df[\"message_tokens\"] = df[\"message_nopunct\"].apply(lambda x : tokenize(x.lower()))\n",
    "\n",
    "df.head()"
   ]
  }
 ],
 "metadata": {
  "kernelspec": {
   "display_name": "env",
   "language": "python",
   "name": "python3"
  },
  "language_info": {
   "codemirror_mode": {
    "name": "ipython",
    "version": 3
   },
   "file_extension": ".py",
   "mimetype": "text/x-python",
   "name": "python",
   "nbconvert_exporter": "python",
   "pygments_lexer": "ipython3",
   "version": "3.11.9"
  }
 },
 "nbformat": 4,
 "nbformat_minor": 2
}
